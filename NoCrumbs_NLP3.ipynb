{
  "nbformat": 4,
  "nbformat_minor": 0,
  "metadata": {
    "colab": {
      "provenance": []
    },
    "kernelspec": {
      "name": "python3",
      "display_name": "Python 3"
    },
    "language_info": {
      "name": "python"
    }
  },
  "cells": [
    {
      "cell_type": "markdown",
      "source": [
        "# Required Libraries and Files"
      ],
      "metadata": {
        "id": "QOcnI94wNYGJ"
      }
    },
    {
      "cell_type": "code",
      "execution_count": 8,
      "metadata": {
        "colab": {
          "base_uri": "https://localhost:8080/"
        },
        "id": "Met3lyy4z9dc",
        "outputId": "8dc4d14e-0484-4545-a5c1-c546628281bc"
      },
      "outputs": [
        {
          "output_type": "stream",
          "name": "stdout",
          "text": [
            "Downloading...\n",
            "From (original): https://drive.google.com/uc?id=10-NuS-prcLNZjlXSqQd6RBOM44k8epdx\n",
            "From (redirected): https://drive.google.com/uc?id=10-NuS-prcLNZjlXSqQd6RBOM44k8epdx&confirm=t&uuid=db1126fe-4f62-4d15-ba92-71747e206c4d\n",
            "To: /content/archive.zip\n",
            "100% 666M/666M [00:05<00:00, 129MB/s]\n"
          ]
        }
      ],
      "source": [
        "import zipfile\n",
        "import gdown\n",
        "import pandas as pd\n",
        "import spacy\n",
        "import en_core_web_sm\n",
        "import re\n",
        "from tqdm import tqdm\n",
        "\n",
        "! gdown 10-NuS-prcLNZjlXSqQd6RBOM44k8epdx #dataset file\n",
        "\n",
        "nlp = en_core_web_sm.load() #spacy's English model"
      ]
    },
    {
      "cell_type": "markdown",
      "source": [
        "# Load Dataset"
      ],
      "metadata": {
        "id": "kxMgXXz8Ncef"
      }
    },
    {
      "cell_type": "code",
      "source": [
        "#@title Unzip the dataset file\n",
        "with zipfile.ZipFile('archive.zip', 'r') as zip_ref:\n",
        "    zip_ref.extractall('/content/')"
      ],
      "metadata": {
        "id": "0uKto0Uo0Ybt",
        "cellView": "form"
      },
      "execution_count": 9,
      "outputs": []
    },
    {
      "cell_type": "code",
      "source": [
        "#@title Build the dataframe\n",
        "df = pd.read_csv('recipes_data.csv', header=0)\n",
        "\n",
        "#eliminating duplicated recipes with the same name\n",
        "df = df.drop_duplicates(subset='title')\n",
        "\n",
        "#we randomize the recipes\n",
        "random_state = 42\n",
        "df = df.sample(frac=1, random_state=random_state) #random_state for reproducibility\n",
        "\n",
        "#we drop the columns that we won't need\n",
        "hide_columns = ['site', 'source', 'site', 'link']\n",
        "df = df.drop(columns=hide_columns)\n",
        "\n",
        "# We keep only the first 500.000 recipes so the code runs faster,\n",
        "# feel free to change the parameter to your preference\n",
        "number_of_recipes = 500000 #@param {type: \"number\"}\n",
        "df = df.head(number_of_recipes)\n"
      ],
      "metadata": {
        "id": "oL-CA1Yd5zA5"
      },
      "execution_count": 10,
      "outputs": []
    },
    {
      "cell_type": "code",
      "source": [
        "#@title Anotate vegetarian and vegan recipes\n",
        "\n",
        "non_veggie = ['chicken', 'beef', 'pork', 'fish', 'lamb', 'goat', 'meat', 'turkey', 'duck', 'veal', 'bacon', 'ham', 'salmon', 'copa',\n",
        "              'shrimp', 'crab', 'lobster', 'oyster', 'sardine', 'anchovy', 'trout', 'tuna', 'mutton', 'venison', 'sole', 'jamon',\n",
        "              'squid', 'octopus', 'clams', 'scallops', 'jelly', 'jell-o', 'jello', 'gelatin', 'rabbit', 'deer', 'quail', 'pepperoni',\n",
        "              'snail', 'horse', 'buffalo', 'boar', 'guinea pig', 'kangaroo', 'ostrich', 'pigeon', 'turtle', 'frog', 'hamburguer',\n",
        "              'alligator', 'elk', 'snake', 'sausage', 'pancetta', 'filet', 'chorico', 'ribs', 'chorizo', 'cod', 'meatballs', 'herring']\n",
        "\n",
        "non_vegan = non_veggie + ['milk', 'butter', 'cream', 'cheese', 'yogurt', 'honey', 'whey', 'casein',\n",
        "                           'beeswax', 'isenglass', 'carmine', 'shellac', 'albumin', 'cochineal',\n",
        "                           'collagen', 'ghee', 'lanolin', 'suet', 'rennet', 'lard', 'buttermilk',\n",
        "                           'squalene', 'taurine', 'egg', 'yolk', 'whey', 'casein', 'ghee', 'curd',\n",
        "                           'paneer', 'lactose', 'quark', 'kefir', 'cottage', 'mascarpone', 'brie']\n",
        "\n",
        "def is_vegetarian(ingredient):\n",
        "    return all(i not in ingredient for i in non_veggie)\n",
        "\n",
        "def is_vegan(ingredient):\n",
        "    return all(i not in ingredient for i in non_vegan)\n",
        "\n",
        "total_rows = len(df)\n",
        "\n",
        "tqdm.pandas(desc=\"Annotating diets: \")\n",
        "df['Vegetarian'] = df['ingredients'].progress_apply(lambda x: all(is_vegetarian(ingredient) for ingredient in x.split(', ')))\n",
        "df['Vegan'] = df['ingredients'].progress_apply(lambda x: all(is_vegan(ingredient) for ingredient in x.split(', ')))\n",
        "\n",
        "#print the df to visualize how the data looks\n",
        "#df"
      ],
      "metadata": {
        "id": "SoplraqAq_Rl",
        "colab": {
          "base_uri": "https://localhost:8080/"
        },
        "outputId": "6895d247-ed6a-45d0-ac4f-fcfc54ba686f"
      },
      "execution_count": 11,
      "outputs": [
        {
          "output_type": "stream",
          "name": "stderr",
          "text": [
            "Processing rows: 100%|██████████| 500000/500000 [00:48<00:00, 10301.54it/s]\n",
            "Processing rows: 100%|██████████| 500000/500000 [00:52<00:00, 9555.30it/s] \n"
          ]
        }
      ]
    },
    {
      "cell_type": "markdown",
      "source": [
        "# **No Crumbs Recipe Finder**\n"
      ],
      "metadata": {
        "id": "1nvIw-NL0LM_"
      }
    },
    {
      "cell_type": "code",
      "source": [
        "#@title Main program\n",
        "lines = \"-\"*40 # this variable is used throughout the code for better visibility\n",
        "\n",
        "def select_category():\n",
        "    # print diet options to the user\n",
        "    print('Welcome to No Crumbs, your slayest recipe finder!')\n",
        "    print(\"Please select a category:\")\n",
        "    print(\"[1] Vegetarian\")\n",
        "    print(\"[2] Vegan\")\n",
        "    print(\"[3] No restrictions\")\n",
        "\n",
        "    # and now we want the user's answer\n",
        "    while True:\n",
        "        diet_selection = input(\"Enter the number corresponding to your choice: \")\n",
        "        try:\n",
        "            category = int(diet_selection)\n",
        "            if category in [1, 2, 3]:\n",
        "                return category\n",
        "            else: #in case they input a number higher than 3\n",
        "                print(\"Invalid selection. Please enter a number between 1 and 3.\")\n",
        "        except ValueError: #in case the input is not a number\n",
        "            print(\"Invalid input. Please enter a number.\")\n",
        "\n",
        "def get_input_ingredients():\n",
        "    # we ask the user for the ingredients and the input given will be lowercased and\n",
        "    # splited using the commas we very friendly asked them to use\n",
        "    print(lines)\n",
        "    return input(\"What ingredients do you have? (Please use commas to separate them)\\n\").lower().split(\",\")\n",
        "\n",
        "def lemmatize(words):\n",
        "    lemmatized_words = []\n",
        "    for word in words:\n",
        "        word = word.strip() #we eliminate unnecessary spaces\n",
        "        doc = nlp(word)\n",
        "        lemmatized_word = \" \".join([token.lemma_ for token in doc])\n",
        "        lemmatized_words.append(lemmatized_word)\n",
        "    return lemmatized_words\n",
        "\n",
        "def filter_recipes(df, ingredients, category):\n",
        "    # separate the ingredients we want from the ones we don't want\n",
        "    included_ingredients = []\n",
        "    excluded_ingredients = []\n",
        "    for ingredient in ingredients:\n",
        "        ingredient = ingredient.lstrip() #we take away the space at the start of some ingredients\n",
        "        if ingredient.startswith(\"-\"):\n",
        "            excluded_ingredients.append(ingredient.lstrip(\"-\"))\n",
        "        else:\n",
        "            included_ingredients.append(ingredient)\n",
        "\n",
        "    # we remove recipes containing excluded ingredients\n",
        "    for excluded_ingredient in excluded_ingredients:\n",
        "        df = df[~df['ingredients'].str.contains(re.escape(excluded_ingredient), case=False)]\n",
        "\n",
        "    # we now choose the recipes that include all ingredients we want\n",
        "    # depending on diet category selection\n",
        "    if category == 1:\n",
        "        filtered_df = df[(df['Vegetarian']) & (df['ingredients'].apply(lambda x: all(re.search(rf'{ingredient}', x, re.IGNORECASE) for ingredient in included_ingredients)))]\n",
        "        #(breakdown of the line above)\n",
        "        #to keep a recipe two conditions must apply: the recipe is categorized as vegetarian\n",
        "        #the ingredients column contains all the ingredients listed\n",
        "    elif category == 2:\n",
        "        filtered_df = df[(df['Vegan']) & (df['ingredients'].apply(lambda x: all(re.search(rf'{ingredient}', x, re.IGNORECASE) for ingredient in included_ingredients)))]\n",
        "    elif category == 3:\n",
        "        filtered_df = df[(df['ingredients'].apply(lambda x: all(re.search(rf'{ingredient}', x, re.IGNORECASE) for ingredient in included_ingredients)))]\n",
        "    else:\n",
        "        filtered_df = pd.DataFrame(columns=df.columns)\n",
        "\n",
        "    return filtered_df.head(10) #to not overwhelm the user we only keep maximum 10 of the results\n",
        "\n",
        "#Main program\n",
        "while True:\n",
        "    category = select_category() #the user choses diet preference\n",
        "    input_ingredients = get_input_ingredients() #the user inputs list of ingredients they want\n",
        "    lemmatized_input = lemmatize(input_ingredients) #the list of ingredients is lemmatized\n",
        "    filtered_recipes = filter_recipes(df, input_ingredients, category) #we search for matching recipes to diet category and containing all ingredients\n",
        "\n",
        "    if filtered_recipes.empty: #in case no matching recipes are found we ask if they want to try again\n",
        "        change_category = input(\"Sorry, no recipes found matching your criteria. Would you like to start again? (yes/no): \").lower()\n",
        "        print(lines)\n",
        "        if change_category == \"yes\" or change_category == \"y\":\n",
        "            continue  # restart the loop if the user wants to start again\n",
        "        else:\n",
        "            break  # exit the loop if the user doesn't want to start again\n",
        "    else:\n",
        "        print(lines)\n",
        "        #first we print the results from the filtering\n",
        "        print(\"Here are some recipes containing your ingredient(s) (up to 10):\")\n",
        "        #we want the recipe titles shown to be enumerated\n",
        "        for i, (_, row) in enumerate(filtered_recipes.iterrows(), start=1):\n",
        "            print(f\"{i}. {row['title']}\")\n",
        "\n",
        "        print(lines)\n",
        "\n",
        "        #we let the user select the recipe they are interested in\n",
        "        selection = input(\"Select a recipe number to view its ingredients:\\n\")\n",
        "        try:\n",
        "            #we make sure the number selected is the correct one, keeping in mind python starts at 0\n",
        "            selected_recipe_index = int(selection) - 1\n",
        "            if 0 <= selected_recipe_index < len(filtered_recipes): #the user should have written a number over 0 and under 11\n",
        "                selected_recipe = filtered_recipes.iloc[selected_recipe_index:selected_recipe_index + 1]\n",
        "                ingredients = eval(selected_recipe['ingredients'].iloc[0]) #we get the ingredients for the choosen recipe\n",
        "                directions = eval(selected_recipe['directions'].iloc[0])#and the  instructions\n",
        "                #we print all the information in a easily readable format\n",
        "                print('\\n***', selected_recipe['title'].iloc[0], '***')\n",
        "                print()\n",
        "                print(f\"Ingredients:\")\n",
        "                for ingredient in ingredients:\n",
        "                    print(\"-\", ingredient.strip())\n",
        "                print()\n",
        "                print(f\"Instructions:\")\n",
        "                for direction in directions:\n",
        "                    print(\"-\", direction.strip())\n",
        "            else:\n",
        "                print(\"Invalid selection.\") #again we account for incorrect input number\n",
        "        except ValueError:\n",
        "            print(\"Invalid input. Please enter a number.\") #or for incorrect type input\n",
        "\n",
        "        print(lines)\n",
        "        #lastly we give the option to start again or finish the search\n",
        "        restart = input(\"Would you like to start again? (yes/no): \").lower()\n",
        "        if restart == \"yes\" or restart == \"y\":\n",
        "            continue\n",
        "        else:\n",
        "            break # Exit the loop if the user doesn't want to start again\n",
        "\n",
        "print(lines)\n",
        "print(\"Thank you for using No Crumbs! :)\")"
      ],
      "metadata": {
        "colab": {
          "base_uri": "https://localhost:8080/"
        },
        "id": "MeqTkXQHpPBe",
        "outputId": "04808d9f-d12d-4549-8642-c4d8b862f30c"
      },
      "execution_count": null,
      "outputs": [
        {
          "output_type": "stream",
          "name": "stdout",
          "text": [
            "Welcome to No Crumbs, your slayest recipe finder!\n",
            "Please select a category:\n",
            "[1] Vegetarian\n",
            "[2] Vegan\n",
            "[3] No restrictions\n",
            "Enter the number corresponding to your choice: 1\n",
            "----------------------------------------\n",
            "What ingredients do you have? (Please use commas to separate them)\n",
            "tomato, -pasta\n",
            "----------------------------------------\n",
            "Here are some recipes containing your ingredient(s) (up to 10):\n",
            "1. Creole Catsup\n",
            "2. Cherry Tomato-Gruyere Tartlets\n",
            "3. Black Pepper Honey Roasted Tomato Galette With Mascarpone Cream\n",
            "4. Baked Lentil Cheese Burgers\n",
            "5. Walk Away Tomato Sauce \n",
            "6. Ancho, Beef, And Bulgur Chili \n",
            "7. Cider Baked Beans\n",
            "8. Firehouse Roasted Peppers and Garlic Salsa\n",
            "9. Tilapia With Charred Cherry Tomatoes And Balsamic Reduction\n",
            "10. 34 Morton Street Specials\n",
            "----------------------------------------\n",
            "Select a recipe number to view its ingredients:\n",
            "2\n",
            "\n",
            "*** Cherry Tomato-Gruyere Tartlets ***\n",
            "\n",
            "Ingredients:\n",
            "- 1 12 cups flour\n",
            "- 1 12 tablespoons unsalted butter\n",
            "- 18 teaspoon salt\n",
            "- 5 -7 tablespoons ice water\n",
            "- 2 tablespoons Dijon mustard\n",
            "- 6 ounces gruyere cheese, thinly sliced\n",
            "- 30 cherry tomatoes, sliced\n",
            "- 12 tablespoon fresh thyme\n",
            "- salt & freshly ground black pepper, to taste\n",
            "- 34 cup shredded gruyere cheese\n",
            "- 2 tablespoons olive oil\n",
            "\n",
            "Instructions:\n",
            "- Pulse flour, butter and salt in food processor until crumbly, about 12 times.\n",
            "- Add 5 Tablespoons water: process just until dough begins to leave sides of bowl and forms a ball, gradually adding remaining 2 Tablespoons water, if necessary, to form ball.\n",
            "- Divide dough in half: shape each portion into a ball.\n",
            "- Cover and chill 20 minutes.\n",
            "- Roll each portion of dough into 1/8-inch thickness on lightly floured surface.\n",
            "- Cut pastry into 12 rounds, using a 4 1/2-inch cutter.\n",
            "- Place rounds on ungreased 15X10-inch jellyroll pans.\n",
            "- Crimp edges if desired.\n",
            "- Spread rounds evenly with mustard.\n",
            "- Top with cheese slices, tomato, thyme, salt and pepper.\n",
            "- Sprinkle rounds with shredded cheese and drizzle with olive oil.\n",
            "- Bake at 425-degrees for 15 minutes or until pastry is golden.\n",
            "- Garnish with fresh thyme and serve immediately.\n",
            "----------------------------------------\n",
            "Would you like to start again? (yes/no): n\n",
            "----------------------------------------\n",
            "Thank you for using No Crumbs! :)\n"
          ]
        }
      ]
    },
    {
      "cell_type": "code",
      "source": [
        "#@title Error testing\n",
        "#we used this for error testing, to easily access a specific recipe and its ingredients\n",
        "def print_ingredients(df, recipe_title):\n",
        "    # first check that the recipe title is correct\n",
        "    if recipe_title in df['title'].values:\n",
        "        # we get the ingredients from both the \"ingredients\" and \"NER\" columns to compare\n",
        "        ingredients = df.loc[df['title'] == recipe_title, 'ingredients'].values[0]\n",
        "        print(f\"Ingredients for '{recipe_title}':\")\n",
        "        for ingredient in ingredients.split(','):\n",
        "            print(f\"- {ingredient.strip()}\")\n",
        "        NERingredients = df.loc[df['title'] == recipe_title, 'NER'].values[0]\n",
        "        print(f\"Ingredients in NER for '{recipe_title}':\")\n",
        "        for ingredient in NERingredients.split(','):\n",
        "            print(f\"- {ingredient.strip()}\")\n",
        "    else:\n",
        "        print(f\"Recipe '{recipe_title}' not found!\")\n",
        "\n",
        "print_ingredients(df, \"Polish potato salad recipe\")"
      ],
      "metadata": {
        "id": "BvAqAKMOeGxQ"
      },
      "execution_count": null,
      "outputs": []
    }
  ]
}